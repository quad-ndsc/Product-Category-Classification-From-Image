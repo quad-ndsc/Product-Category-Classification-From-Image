{
 "cells": [
  {
   "cell_type": "code",
   "execution_count": null,
   "metadata": {},
   "outputs": [
    {
     "name": "stdout",
     "output_type": "stream",
     "text": [
      "[INFO] loading network...\n",
      "Found 160330 images belonging to 27 classes.\n"
     ]
    }
   ],
   "source": [
    "from keras.preprocessing.image import img_to_array\n",
    "from keras.models import load_model\n",
    "from keras.preprocessing.image import ImageDataGenerator\n",
    "import pandas as pd\n",
    "from math import ceil\n",
    "\n",
    "BS = 128\n",
    "IMAGE_DIMS = (96, 96, 3)\n",
    "\n",
    "def is_interactive():\n",
    "    import __main__ as main\n",
    "    return not hasattr(main, '__file__')\n",
    "\n",
    "# construct the argument parse and parse the arguments\n",
    "if not is_interactive():\n",
    "    ap = argparse.ArgumentParser()\n",
    "    ap.add_argument(\"-d\", \"--dataset\", required=True,\n",
    "        help=\"path to train.csv\")\n",
    "    ap.add_argument(\"-m\", \"--model\", required=True,\n",
    "        help=\"path to output model\")\n",
    "    ap.add_argument(\"-l\", \"--labelbin\", required=True,\n",
    "        help=\"path to output label binarizer\")\n",
    "    args = vars(ap.parse_args())\n",
    "else:\n",
    "    args = {}\n",
    "    args['dataset'] = '../train.csv'\n",
    "    args['model'] = 'mobile_categorizer.model'\n",
    "    args['labelbin'] = 'lb.pickle'\n",
    "\n",
    "model_path = 'weights-improvement-02-0.96.model'\n",
    "dataset = pd.read_csv(args['dataset'])\n",
    "\n",
    "dataset = dataset[dataset\n",
    "                      .image_path\n",
    "                      .apply(lambda image_path: image_path.startswith('mobile_image'))]\n",
    "\n",
    "\n",
    "dataset.Category = dataset.Category.apply(str)\n",
    "\n",
    "unique_categories = dataset['Category'].unique().tolist()\n",
    "\n",
    "\n",
    "print(\"[INFO] loading network...\")\n",
    "model = load_model(model_path)\n",
    "\n",
    "# construct the image generator for data augmentation\n",
    "image_data_gen = ImageDataGenerator(rotation_range=25, width_shift_range=0.1,\n",
    "    height_shift_range=0.1, shear_range=0.2, zoom_range=0.2,\n",
    "    horizontal_flip=True, fill_mode=\"nearest\", rescale=1/255.0, dtype=float)\n",
    "\n",
    "\n",
    "dataset_iter = image_data_gen.flow_from_dataframe(dataset,\n",
    "                                                    directory='./',\n",
    "                                                    x_col='image_path',\n",
    "                                                    y_col='Category',\n",
    "                                                    target_size=(IMAGE_DIMS[1], IMAGE_DIMS[0]),\n",
    "                                                    color_mode='rgb',\n",
    "                                                    class_mode='categorical',\n",
    "                                                    classes=unique_categories,\n",
    "                                                    batch_size=BS)\n",
    "\n",
    "classifications = model.predict_generator(dataset_iter, \n",
    "                                          steps=ceil(len(dataset) / BS),\n",
    "                                          use_multiprocessing=True)\n",
    "display(classifications)\n",
    "\n"
   ]
  },
  {
   "cell_type": "code",
   "execution_count": null,
   "metadata": {},
   "outputs": [],
   "source": []
  }
 ],
 "metadata": {
  "kernelspec": {
   "display_name": "venv",
   "language": "python",
   "name": "venv"
  },
  "language_info": {
   "codemirror_mode": {
    "name": "ipython",
    "version": 3
   },
   "file_extension": ".py",
   "mimetype": "text/x-python",
   "name": "python",
   "nbconvert_exporter": "python",
   "pygments_lexer": "ipython3",
   "version": "3.6.7"
  }
 },
 "nbformat": 4,
 "nbformat_minor": 2
}
